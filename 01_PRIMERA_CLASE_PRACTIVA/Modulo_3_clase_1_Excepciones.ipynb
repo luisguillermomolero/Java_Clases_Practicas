{
 "cells": [
  {
   "cell_type": "markdown",
   "metadata": {
    "id": "2b6V28mRDF6g"
   },
   "source": [
    "## **Clase 1: Manejo de Excepciones en Java y Creación de Excepciones Personalizadas**  \n",
    "**Duración:** 2 horas  \n",
    "**Nivel:** Intermedio  \n",
    "**Objetivo:** Enseñar el uso correcto de `try`, `catch`, `finally` y la creación de excepciones personalizadas en Java, aplicando buenas prácticas y normas internacionales de código seguro y calidad de código.  \n"
   ]
  },
  {
   "cell_type": "markdown",
   "metadata": {
    "id": "NvALqQ6RDF6j"
   },
   "source": [
    "# **1. Introducción a las Excepciones en Java**\n",
    "\n",
    "## **1.1. ¿Qué es una Excepción?**  \n",
    "En programación, una **excepción** es un evento que interrumpe el flujo normal de ejecución de un programa debido a un error inesperado.  \n",
    "\n",
    "### **Ejemplo de una ejecución normal vs. una con excepción:**  \n"
   ]
  },
  {
   "cell_type": "code",
   "execution_count": null,
   "metadata": {
    "id": "asx2I6zXDF6l",
    "vscode": {
     "languageId": "plaintext"
    }
   },
   "outputs": [],
   "source": [
    "public class Ejemplo {\n",
    "    public static void main(String[] args) {\n",
    "        System.out.println(\"Inicio del programa\");\n",
    "        int resultado = 10 / 2; // Ejecución normal\n",
    "        System.out.println(\"Resultado: \" + resultado);\n",
    "    }\n",
    "}\n"
   ]
  },
  {
   "cell_type": "markdown",
   "metadata": {
    "id": "ftYWCtj2DF6n"
   },
   "source": [
    "🟢 **Salida esperada:**  \n",
    "```\n",
    "Inicio del programa  \n",
    "Resultado: 5\n",
    "```\n",
    "\n",
    "Si cambiamos `10 / 2` por `10 / 0`, ocurrirá una **excepción de división por cero**, deteniendo la ejecución del programa.\n"
   ]
  },
  {
   "cell_type": "code",
   "execution_count": null,
   "metadata": {
    "id": "Ou5o82RxDF6o",
    "vscode": {
     "languageId": "plaintext"
    }
   },
   "outputs": [],
   "source": [
    "public class EjemploError {\n",
    "    public static void main(String[] args) {\n",
    "        System.out.println(\"Inicio del programa\");\n",
    "        int resultado = 10 / 0; // ERROR\n",
    "        System.out.println(\"Resultado: \" + resultado);\n",
    "    }\n",
    "}\n"
   ]
  },
  {
   "cell_type": "markdown",
   "metadata": {
    "id": "4DhmmBW3DF6p"
   },
   "source": [
    "🔴 **Salida con excepción:**  \n",
    "```\n",
    "Inicio del programa  \n",
    "Exception in thread \"main\" java.lang.ArithmeticException: / by zero\n",
    "```\n",
    "\n",
    "📌 **Importante:**  \n",
    "Las excepciones permiten detectar errores y manejar situaciones inesperadas sin que el programa termine abruptamente.\n",
    "\n",
    "---\n"
   ]
  },
  {
   "cell_type": "markdown",
   "metadata": {
    "id": "z1v5bdw8DF6p"
   },
   "source": [
    "## **1.2. Diferencia entre Errores (`Error`) y Excepciones (`Exception`)**  \n",
    "Java diferencia entre **errores del sistema** (`Error`) y **excepciones del programa** (`Exception`).\n",
    "\n",
    "### **🔹 Errores (`Error`)**  \n",
    "Son fallos graves a nivel de máquina o memoria, imposibles de manejar por el programa.  \n",
    "Ejemplos:\n",
    "- `StackOverflowError` → Cuando un método se llama a sí mismo indefinidamente (recursión infinita).\n",
    "- `OutOfMemoryError` → Cuando el programa consume toda la memoria disponible.\n"
   ]
  },
  {
   "cell_type": "markdown",
   "metadata": {
    "id": "8qTFibKCDF6q"
   },
   "source": [
    "### **🔹 Excepciones (`Exception`)**  \n",
    "Las excepciones son fallos en la lógica del programa que **pueden y deben manejarse**.  \n",
    "\n",
    "Ejemplos comunes:\n",
    "- `NullPointerException` → Cuando se intenta acceder a un objeto nulo.\n",
    "- `IOException` → Cuando hay un fallo en la lectura/escritura de archivos.\n",
    "- `SQLException` → Cuando ocurre un error en la base de datos."
   ]
  },
  {
   "cell_type": "markdown",
   "metadata": {
    "id": "2KyR0tgkDF6r"
   },
   "source": [
    "## **1.3. Tipos de Excepciones en Java**  \n",
    "Java clasifica las excepciones en **Checked Exceptions** y **Unchecked Exceptions**.\n",
    "\n",
    "### **🔹 Checked Exceptions (Excepciones verificadas)**\n",
    "- Se deben manejar obligatoriamente en tiempo de compilación.\n",
    "- Representan errores externos al programa (ejemplo: problemas de archivos o base de datos).\n",
    "- Ejemplo: `IOException`, `SQLException`.\n",
    "\n",
    "📌 **Ejemplo de `IOException`:**  \n",
    "Si intentamos leer un archivo inexistente sin manejar la excepción, el código no compilará.\n"
   ]
  },
  {
   "cell_type": "code",
   "execution_count": null,
   "metadata": {
    "id": "brVCfO5MDF6s",
    "vscode": {
     "languageId": "plaintext"
    }
   },
   "outputs": [],
   "source": [
    "import java.io.*;\n",
    "\n",
    "public class EjemploChecked {\n",
    "    public static void main(String[] args) throws IOException {\n",
    "        FileReader file = new FileReader(\"archivo_no_existe.txt\"); // ERROR\n",
    "        BufferedReader br = new BufferedReader(file);\n",
    "        System.out.println(br.readLine());\n",
    "        br.close();\n",
    "    }\n",
    "}\n"
   ]
  },
  {
   "cell_type": "markdown",
   "metadata": {
    "id": "In6y9gdMDF6t"
   },
   "source": [
    "🔴 **Error de compilación:**  \n",
    "```\n",
    "Unhandled exception: java.io.FileNotFoundException\n",
    "```\n",
    "\n",
    "📌 **Solución:** Manejarlo con `try-catch` o usar `throws` en la declaración del método.\n"
   ]
  },
  {
   "cell_type": "code",
   "execution_count": null,
   "metadata": {
    "id": "QiiRNIeJDF6t",
    "vscode": {
     "languageId": "plaintext"
    }
   },
   "outputs": [],
   "source": [
    "import java.io.*;\n",
    "\n",
    "public class App {\n",
    "    public static void main(String[] args) {\n",
    "        try {\n",
    "            FileReader file = new FileReader(\"archivo_no_existe.txt\"); // Puede generar FileNotFoundException\n",
    "            BufferedReader br = new BufferedReader(file);\n",
    "\n",
    "            System.out.println(br.readLine()); // Puede generar IOException\n",
    "\n",
    "            br.close();\n",
    "        } catch (FileNotFoundException e) {\n",
    "            System.out.println(\"Error: El archivo no se encontró.\");\n",
    "        } catch (IOException e) {\n",
    "            System.out.println(\"Error: Ocurrió un problema al leer el archivo.\");\n",
    "        }\n",
    "\n",
    "        System.out.println(\"Fin del programa.\");\n",
    "    }\n",
    "}\n"
   ]
  },
  {
   "cell_type": "markdown",
   "metadata": {
    "id": "QxaPyZWZDF6t"
   },
   "source": [
    "### **🔹 Unchecked Exceptions (Excepciones no verificadas)**\n",
    "- Ocurren en tiempo de ejecución y no requieren manejo obligatorio.\n",
    "- Normalmente son errores de lógica en el código.\n",
    "- Ejemplo: `NullPointerException`, `ArithmeticException`.\n",
    "\n",
    "📌 **Ejemplo de `ArithmeticException`:**  \n"
   ]
  },
  {
   "cell_type": "code",
   "execution_count": null,
   "metadata": {
    "id": "qwsWTtN9DF6u",
    "vscode": {
     "languageId": "plaintext"
    }
   },
   "outputs": [],
   "source": [
    "public class EjemploUnchecked {\n",
    "    public static void main(String[] args) {\n",
    "        int resultado = 10 / 0; // ERROR en tiempo de ejecución\n",
    "    }\n",
    "}\n"
   ]
  },
  {
   "cell_type": "markdown",
   "metadata": {
    "id": "XWJmzyOTDF6u"
   },
   "source": [
    "🔴 **Salida esperada:**  \n",
    "```\n",
    "Exception in thread \"main\" java.lang.ArithmeticException: / by zero\n",
    "```\n",
    "\n",
    "📌 **Solución:** Validar antes de ejecutar la operación.\n"
   ]
  },
  {
   "cell_type": "code",
   "execution_count": null,
   "metadata": {
    "id": "iYzbL089DF6u",
    "vscode": {
     "languageId": "plaintext"
    }
   },
   "outputs": [],
   "source": [
    "public class EjemploUncheckedCorregido {\n",
    "    public static void main(String[] args) {\n",
    "        int divisor = 0;\n",
    "        if (divisor != 0) {\n",
    "            int resultado = 10 / divisor;\n",
    "            System.out.println(\"Resultado: \" + resultado);\n",
    "        } else {\n",
    "            System.out.println(\"No se puede dividir por cero.\");\n",
    "        }\n",
    "    }\n",
    "}\n"
   ]
  },
  {
   "cell_type": "markdown",
   "metadata": {
    "id": "MlGw-iYADF6u"
   },
   "source": [
    "🟢 **Salida corregida:**  \n",
    "```\n",
    "No se puede dividir por cero.\n",
    "```\n",
    "\n",
    "---\n"
   ]
  },
  {
   "cell_type": "markdown",
   "metadata": {
    "id": "EC_0I1FtDF6v"
   },
   "source": [
    "📌 **Solución:** Manejarlo con `try-catch` o usar `throws` en la declaración del método.\n"
   ]
  },
  {
   "cell_type": "code",
   "execution_count": null,
   "metadata": {
    "id": "uj5pmUQTDF6v",
    "vscode": {
     "languageId": "plaintext"
    }
   },
   "outputs": [],
   "source": [
    "public class App {\n",
    "    public static void main(String[] args) {\n",
    "        int divisor = 0;\n",
    "\n",
    "        try {\n",
    "            int resultado = 10 / divisor; // Puede generar ArithmeticException\n",
    "            System.out.println(\"Resultado: \" + resultado);\n",
    "        } catch (ArithmeticException e) {\n",
    "            System.out.println(\"Error: No se puede dividir por cero.\");\n",
    "        }\n",
    "\n",
    "        System.out.println(\"Fin del programa.\");\n",
    "    }\n",
    "}\n"
   ]
  },
  {
   "cell_type": "markdown",
   "metadata": {
    "id": "7OWMw-_qDF6v"
   },
   "source": [
    "## **1.4. Importancia del Manejo de Excepciones en Empresas**  \n",
    "Las empresas manejan grandes volúmenes de datos y procesos críticos. Si una excepción no es controlada, puede causar pérdidas económicas, fallos en sistemas o incluso vulnerabilidades de seguridad.  \n",
    "\n",
    "**Ejemplo de impacto en empresas:**  \n",
    "❌ **Sin manejo de excepciones:**  \n",
    "- Un banco que no maneja `SaldoInsuficienteException`, permitiendo retiros sin saldo.  \n",
    "- Una tienda en línea con `NullPointerException`, fallando al procesar órdenes.  \n",
    "\n",
    "✅ **Con manejo de excepciones:**  \n",
    "- Registro de errores en logs para análisis.  \n",
    "- Mensajes amigables para el usuario en caso de errores.  \n",
    "- Evitar caídas del sistema con `try-catch-finally`.\n",
    "\n",
    "📌 **Ejemplo en un sistema bancario:**  \n"
   ]
  },
  {
   "cell_type": "code",
   "execution_count": null,
   "metadata": {
    "id": "WXkWDgaNDF6v",
    "vscode": {
     "languageId": "plaintext"
    }
   },
   "outputs": [],
   "source": [
    "public class App {\n",
    "    public static void main(String[] args) {\n",
    "        int saldo = 500;\n",
    "        int retiro = 700;\n",
    "\n",
    "        try {\n",
    "            if (retiro > saldo) {\n",
    "                throw new Exception(\"Saldo insuficiente.\");\n",
    "            }\n",
    "            saldo -= retiro;\n",
    "            System.out.println(\"Retiro exitoso.\");\n",
    "        } catch (Exception e) {\n",
    "            System.err.println(\"Error: \" + e.getMessage());\n",
    "        } finally {\n",
    "            System.out.println(\"Operación finalizada. Saldo actual: \" + saldo);\n",
    "        }\n",
    "    }\n",
    "}\n"
   ]
  },
  {
   "cell_type": "markdown",
   "metadata": {
    "id": "KShtvsNaDF6v"
   },
   "source": [
    "🟢 **Salida amigable:**  \n",
    "```\n",
    "Error: Saldo insuficiente.\n",
    "```\n",
    "\n",
    "---\n"
   ]
  },
  {
   "cell_type": "markdown",
   "metadata": {
    "id": "sWNQhwe6DF6v"
   },
   "source": [
    "## **1.5. Conclusión**  \n",
    "🔹 Java clasifica las excepciones en **Checked** (obligatorias) y **Unchecked** (errores de lógica).  \n",
    "🔹 Los **errores (`Error`)** son problemas graves que no deben manejarse con excepciones.  \n",
    "🔹 Manejar excepciones correctamente evita fallos críticos en empresas.  \n",
    "🔹 Aplicar **buenas prácticas** como validaciones previas y `try-catch-finally` mejora la calidad del código.  \n",
    "\n",
    "---\n"
   ]
  },
  {
   "cell_type": "markdown",
   "metadata": {
    "id": "JNi-LcK3DF6w"
   },
   "source": [
    "# **2. Uso de `try`, `catch` y `finally` en Java**\n",
    "\n",
    "## **2.1. ¿Qué es el Mecanismo `try-catch-finally`?**  \n",
    "El **manejo de excepciones en Java** permite capturar y tratar errores en tiempo de ejecución sin que el programa se detenga de manera abrupta. La estructura básica se compone de tres bloques:  \n",
    "\n",
    "1. **`try`** → Contiene el código que podría generar una excepción.  \n",
    "2. **`catch`** → Captura y maneja la excepción si ocurre en el bloque `try`.  \n",
    "3. **`finally`** → Se ejecuta siempre, ocurra o no una excepción (útil para liberar recursos).  \n",
    "\n",
    "📌 **Beneficios del manejo de excepciones:**  \n",
    "✅ Evita que el programa termine abruptamente.  \n",
    "✅ Permite registrar errores en logs para depuración.  \n",
    "✅ Mejora la experiencia del usuario con mensajes amigables.  \n",
    "✅ Garantiza la limpieza de recursos como archivos y conexiones.  \n",
    "\n",
    "---\n"
   ]
  },
  {
   "cell_type": "markdown",
   "metadata": {
    "id": "kURo6e4VDF6w"
   },
   "source": [
    "## **2.2. Uso del Bloque `try-catch`**\n",
    "\n",
    "### **🔹 Estructura básica de `try-catch`**\n"
   ]
  },
  {
   "cell_type": "code",
   "execution_count": null,
   "metadata": {
    "id": "74Vg0OPdDF6w",
    "vscode": {
     "languageId": "plaintext"
    }
   },
   "outputs": [],
   "source": [
    "try {\n",
    "    // Código que puede generar una excepción\n",
    "} catch (TipoDeExcepcion e) {\n",
    "    // Código para manejar la excepción\n",
    "}\n"
   ]
  },
  {
   "cell_type": "markdown",
   "metadata": {
    "id": "lMJbgBTUDF6w"
   },
   "source": [
    "### **🔹 Ejemplo 1: Capturando una `ArithmeticException`**"
   ]
  },
  {
   "cell_type": "code",
   "execution_count": null,
   "metadata": {
    "id": "8frjMo52DF6w",
    "vscode": {
     "languageId": "plaintext"
    }
   },
   "outputs": [],
   "source": [
    "package com.example;\n",
    "\n",
    "public class App {\n",
    "    public static void main(String[] args) {\n",
    "        try {\n",
    "            // Definimos dos variables enteras\n",
    "            int a = Integer.MAX_VALUE; // Valor máximo posible para un int en Java\n",
    "            int b = 2; // Factor por el que se multiplicará\n",
    "\n",
    "            // Intentamos multiplicar los dos números\n",
    "            // Math.multiplyExact lanza ArithmeticException si ocurre un desbordamiento\n",
    "            int resultado = Math.multiplyExact(a, b);\n",
    "\n",
    "            // Si la multiplicación es exitosa, se imprime el resultado\n",
    "            System.out.println(\"Resultado: \" + resultado);\n",
    "        } catch (ArithmeticException e) {\n",
    "            // Capturamos la excepción en caso de desbordamiento aritmético\n",
    "            System.err.println(\"Error: Desbordamiento aritmético detectado. \" + e.getMessage());\n",
    "        } finally {\n",
    "            // El bloque finally se ejecuta siempre, haya o no una excepción\n",
    "            System.out.println(\"Operación finalizada.\");\n",
    "        }\n",
    "    }\n",
    "}\n"
   ]
  },
  {
   "cell_type": "markdown",
   "metadata": {
    "id": "Ad43s4XkDF6w"
   },
   "source": [
    "## **2.3. Capturar Múltiples Excepciones (`Multi-catch`)**\n",
    "\n",
    "Java permite capturar diferentes tipos de excepciones en un solo bloque `catch`, lo que simplifica el código.\n",
    "\n",
    "### **🔹 Ejemplo 2: Capturar múltiples excepciones**\n"
   ]
  },
  {
   "cell_type": "code",
   "execution_count": null,
   "metadata": {
    "id": "q94iw7NCDF6x",
    "vscode": {
     "languageId": "plaintext"
    }
   },
   "outputs": [],
   "source": [
    "package com.example;\n",
    "\n",
    "public class App {\n",
    "    public static void main(String[] args) {\n",
    "        try {\n",
    "            int[] numeros = { 10, 20, 30 };\n",
    "            System.out.println(numeros[5]); // Provoca ArrayIndexOutOfBoundsException\n",
    "        } catch (ArithmeticException | ArrayIndexOutOfBoundsException e) {\n",
    "            System.out.println(\"Error: Operación no válida. \" + e.getMessage());\n",
    "        }\n",
    "    }\n",
    "}\n"
   ]
  },
  {
   "cell_type": "markdown",
   "metadata": {
    "id": "McXwPJQaDF6x"
   },
   "source": [
    "🟢 **Salida esperada:**  \n",
    "```\n",
    "Error: Operación no válida. Index 5 out of bounds for length 3\n",
    "```\n",
    "📌 **Explicación:**  \n",
    "🔸 Se intenta acceder a un índice fuera del rango del array, generando `ArrayIndexOutOfBoundsException`.  \n",
    "🔸 Se usa `catch (Exception1 | Exception2 e)` para manejar ambas excepciones.  \n",
    "\n",
    "---\n"
   ]
  },
  {
   "cell_type": "markdown",
   "metadata": {
    "id": "kevT5_HGDF6x"
   },
   "source": [
    "## **2.4. Bloque `finally`: Código que Siempre se Ejecuta**\n",
    "\n",
    "El bloque **`finally`** es opcional, pero se ejecuta siempre, haya o no una excepción.  \n",
    "Se usa comúnmente para **cerrar archivos, conexiones a bases de datos o liberar recursos**.\n",
    "\n",
    "### **🔹 Ejemplo 3: Uso de `finally` para liberar recursos**\n"
   ]
  },
  {
   "cell_type": "code",
   "execution_count": null,
   "metadata": {
    "id": "fm36Bz4UDF6x",
    "vscode": {
     "languageId": "plaintext"
    }
   },
   "outputs": [],
   "source": [
    "import java.io.*;\n",
    "\n",
    "public class EjemploFinally {\n",
    "    public static void main(String[] args) {\n",
    "        FileReader file = null;\n",
    "        try {\n",
    "            file = new FileReader(\"archivo.txt\");\n",
    "            BufferedReader br = new BufferedReader(file);\n",
    "            System.out.println(br.readLine());\n",
    "        } catch (IOException e) {\n",
    "            System.out.println(\"Error al leer el archivo: \" + e.getMessage());\n",
    "        } finally {\n",
    "            try {\n",
    "                if (file != null) {\n",
    "                    file.close();\n",
    "                    System.out.println(\"Archivo cerrado correctamente.\");\n",
    "                }\n",
    "            } catch (IOException e) {\n",
    "                System.out.println(\"Error al cerrar el archivo.\");\n",
    "            }\n",
    "        }\n",
    "    }\n",
    "}\n"
   ]
  },
  {
   "cell_type": "markdown",
   "metadata": {
    "id": "xrksciYIDF6x"
   },
   "source": [
    "🟢 **Salida esperada (si el archivo no existe):**  \n",
    "```\n",
    "Error al leer el archivo: archivo.txt (No such file or directory)\n",
    "```\n",
    "🟢 **Salida esperada (si el archivo existe):**  \n",
    "```\n",
    "Contenido del archivo...\n",
    "Archivo cerrado correctamente.\n",
    "```\n",
    "\n",
    "📌 **Explicación:**  \n",
    "🔸 Si ocurre un error al abrir el archivo, se captura en `catch`.  \n",
    "🔸 **`finally`** asegura que el archivo se cierre, evitando fugas de memoria.  \n",
    "\n",
    "---\n"
   ]
  },
  {
   "cell_type": "markdown",
   "metadata": {
    "id": "VUgLqq6VDF6x"
   },
   "source": [
    "## **2.5. Aplicación Empresarial del `try-catch-finally`**  \n",
    "\n",
    "### **Caso 1: Validación de Ingreso de Datos en un Sistema Bancario**\n",
    "Imagina un sistema donde un usuario ingresa datos en un cajero automático. Si ingresa un valor no numérico, el sistema debe manejar la excepción.\n"
   ]
  },
  {
   "cell_type": "code",
   "execution_count": null,
   "metadata": {
    "id": "1DQQXZgEDF6x",
    "vscode": {
     "languageId": "plaintext"
    }
   },
   "outputs": [],
   "source": [
    "package com.example;\n",
    "\n",
    "import java.util.Scanner;\n",
    "\n",
    "public class SistemaBancario {\n",
    "    public static void main(String[] args) {\n",
    "        Scanner scanner = new Scanner(System.in);\n",
    "        int monto = 0;\n",
    "\n",
    "        try {\n",
    "            System.out.print(\"Ingrese el monto a retirar: \");\n",
    "            monto = Integer.parseInt(scanner.nextLine()); // Puede generar NumberFormatException\n",
    "            System.out.println(\"Retirando $\" + monto);\n",
    "        } catch (NumberFormatException e) {\n",
    "            System.out.println(\"Error: Debe ingresar un número válido.\");\n",
    "        } finally {\n",
    "            scanner.close();\n",
    "            System.out.println(\"Operación finalizada.\");\n",
    "        }\n",
    "    }\n",
    "}\n"
   ]
  },
  {
   "cell_type": "markdown",
   "metadata": {
    "id": "cyQZp7P1DF6y"
   },
   "source": [
    "🟢 **Salida esperada (entrada inválida):**  \n",
    "```\n",
    "Ingrese el monto a retirar: abc\n",
    "Error: Debe ingresar un número válido.\n",
    "Operación finalizada.\n",
    "```\n",
    "\n",
    "📌 **Explicación:**  \n",
    "🔸 `try` intenta convertir el input a número.  \n",
    "🔸 `catch` maneja el error si el usuario ingresa texto en lugar de un número.  \n",
    "🔸 `finally` cierra el scanner para evitar fugas de memoria.  \n",
    "\n",
    "---\n"
   ]
  },
  {
   "cell_type": "markdown",
   "metadata": {
    "id": "HN6tsOg5DF6y"
   },
   "source": [
    "## **2.6. Buenas Prácticas para `try-catch-finally`**  \n",
    "\n",
    "✅ **Especifidad en las Excepciones** → Evitar capturar `Exception` directamente.  \n",
    "🚫 **Mal ejemplo:**  \n"
   ]
  },
  {
   "cell_type": "code",
   "execution_count": null,
   "metadata": {
    "id": "3_FtCnwgDF6y",
    "vscode": {
     "languageId": "plaintext"
    }
   },
   "outputs": [],
   "source": [
    "package com.example;\n",
    "\n",
    "public class App {\n",
    "    public static void main(String[] args) {\n",
    "        try {\n",
    "            int resultado = 10 / 0;\n",
    "        } catch (Exception e) { // Mala práctica\n",
    "            System.out.println(\"Error: \" + e.getMessage());\n",
    "        }\n",
    "\n",
    "    }\n",
    "}\n"
   ]
  },
  {
   "cell_type": "markdown",
   "metadata": {
    "id": "Vxr0GWozDF63"
   },
   "source": [
    "✅ **Buen ejemplo:**  "
   ]
  },
  {
   "cell_type": "code",
   "execution_count": null,
   "metadata": {
    "id": "DTgB8tG4DF63",
    "vscode": {
     "languageId": "plaintext"
    }
   },
   "outputs": [],
   "source": [
    "package com.example;\n",
    "\n",
    "public class App {\n",
    "    public static void main(String[] args) {\n",
    "        try {\n",
    "            int resultado = 10 / 0;\n",
    "        } catch (ArithmeticException e) { // Buena práctica\n",
    "            System.out.println(\"Error: No se puede dividir por cero.\");\n",
    "        }\n",
    "\n",
    "    }\n",
    "}\n"
   ]
  }
 ],
 "metadata": {
  "colab": {
   "provenance": []
  },
  "kernelspec": {
   "display_name": "base",
   "language": "python",
   "name": "python3"
  },
  "language_info": {
   "codemirror_mode": {
    "name": "ipython",
    "version": 3
   },
   "file_extension": ".py",
   "mimetype": "text/x-python",
   "name": "python",
   "nbconvert_exporter": "python",
   "pygments_lexer": "ipython3",
   "version": "3.12.7"
  }
 },
 "nbformat": 4,
 "nbformat_minor": 0
}
